{
  "nbformat": 4,
  "nbformat_minor": 0,
  "metadata": {
    "colab": {
      "provenance": [],
      "collapsed_sections": [],
      "authorship_tag": "ABX9TyNRINvxNqaeqCZa+kId4Jwf",
      "include_colab_link": true
    },
    "kernelspec": {
      "name": "python3",
      "display_name": "Python 3"
    },
    "language_info": {
      "name": "python"
    }
  },
  "cells": [
    {
      "cell_type": "markdown",
      "metadata": {
        "id": "view-in-github",
        "colab_type": "text"
      },
      "source": [
        "<a href=\"https://colab.research.google.com/github/aakaashvp/W21-Developing-CNN-Model-for-CIFAR-10-Dataset-4EV2-1/blob/main/Developing_a_CNN_model_for_CIFAR_10_dataset.ipynb\" target=\"_parent\"><img src=\"https://colab.research.google.com/assets/colab-badge.svg\" alt=\"Open In Colab\"/></a>"
      ]
    },
    {
      "cell_type": "code",
      "execution_count": 1,
      "metadata": {
        "id": "uUqdU1TEaFPB"
      },
      "outputs": [],
      "source": [
        "import numpy as np\n",
        "from tensorflow import keras\n",
        "from tensorflow.keras import layers\n",
        "from tensorflow.keras.datasets import cifar10\n",
        "import tensorflow as tf\n",
        "import matplotlib.pyplot as plt\n",
        "from tensorflow.keras import utils\n",
        "import pandas as pd\n",
        "from sklearn.metrics import classification_report,confusion_matrix\n",
        "from tensorflow.keras.preprocessing import image"
      ]
    },
    {
      "cell_type": "code",
      "source": [
        "(X_train, y_train), (X_test, y_test) = cifar10.load_data()"
      ],
      "metadata": {
        "id": "V4oiSRS8aKL2",
        "colab": {
          "base_uri": "https://localhost:8080/"
        },
        "outputId": "e9e98d1f-1fa0-4cca-dcdc-40238829937e"
      },
      "execution_count": 2,
      "outputs": [
        {
          "output_type": "stream",
          "name": "stdout",
          "text": [
            "Downloading data from https://www.cs.toronto.edu/~kriz/cifar-10-python.tar.gz\n",
            "170500096/170498071 [==============================] - 2s 0us/step\n",
            "170508288/170498071 [==============================] - 2s 0us/step\n"
          ]
        }
      ]
    },
    {
      "cell_type": "code",
      "source": [
        "X_train.shape"
      ],
      "metadata": {
        "colab": {
          "base_uri": "https://localhost:8080/"
        },
        "id": "RLPk3277aYaY",
        "outputId": "c8f8d7b4-281a-442e-87d8-03f8af9f510d"
      },
      "execution_count": 3,
      "outputs": [
        {
          "output_type": "execute_result",
          "data": {
            "text/plain": [
              "(50000, 32, 32, 3)"
            ]
          },
          "metadata": {},
          "execution_count": 3
        }
      ]
    },
    {
      "cell_type": "code",
      "source": [
        "X_test.shape"
      ],
      "metadata": {
        "colab": {
          "base_uri": "https://localhost:8080/"
        },
        "id": "bSqGE9Ozaj--",
        "outputId": "fba103a6-9bdf-41a9-8584-ceb8e9bc9efa"
      },
      "execution_count": 4,
      "outputs": [
        {
          "output_type": "execute_result",
          "data": {
            "text/plain": [
              "(10000, 32, 32, 3)"
            ]
          },
          "metadata": {},
          "execution_count": 4
        }
      ]
    },
    {
      "cell_type": "code",
      "source": [
        "single_image= X_train[1100]"
      ],
      "metadata": {
        "id": "29Z1YuGjaoEv"
      },
      "execution_count": 5,
      "outputs": []
    },
    {
      "cell_type": "code",
      "source": [
        "single_image.shape"
      ],
      "metadata": {
        "colab": {
          "base_uri": "https://localhost:8080/"
        },
        "id": "NrQNNjJSbDnd",
        "outputId": "0284b299-64f8-4e82-bb23-e0aa7493dc54"
      },
      "execution_count": 6,
      "outputs": [
        {
          "output_type": "execute_result",
          "data": {
            "text/plain": [
              "(32, 32, 3)"
            ]
          },
          "metadata": {},
          "execution_count": 6
        }
      ]
    },
    {
      "cell_type": "code",
      "source": [
        "plt.imshow(single_image)"
      ],
      "metadata": {
        "colab": {
          "base_uri": "https://localhost:8080/",
          "height": 283
        },
        "id": "njeLAYjvbG7e",
        "outputId": "059d65a1-a91b-4231-c928-24b5ecf1f60e"
      },
      "execution_count": 7,
      "outputs": [
        {
          "output_type": "execute_result",
          "data": {
            "text/plain": [
              "<matplotlib.image.AxesImage at 0x7fb3480ec650>"
            ]
          },
          "metadata": {},
          "execution_count": 7
        },
        {
          "output_type": "display_data",
          "data": {
            "text/plain": [
              "<Figure size 432x288 with 1 Axes>"
            ],
            "image/png": "[encoded data removed]"
          },
          "metadata": {
            "needs_background": "light"
          }
        }
      ]
    },
    {
      "cell_type": "code",
      "source": [
        "y_train[3]"
      ],
      "metadata": {
        "colab": {
          "base_uri": "https://localhost:8080/"
        },
        "id": "pp2cJTIDcMx3",
        "outputId": "3cf7dfc4-d035-4964-802a-7af6c0f1b13c"
      },
      "execution_count": 8,
      "outputs": [
        {
          "output_type": "execute_result",
          "data": {
            "text/plain": [
              "array([4], dtype=uint8)"
            ]
          },
          "metadata": {},
          "execution_count": 8
        }
      ]
    },
    {
      "cell_type": "code",
      "source": [
        "X_train.min()"
      ],
      "metadata": {
        "colab": {
          "base_uri": "https://localhost:8080/"
        },
        "id": "s3avUYBLbJhe",
        "outputId": "be4467aa-efd6-4c1e-a2aa-546ad2516528"
      },
      "execution_count": 9,
      "outputs": [
        {
          "output_type": "execute_result",
          "data": {
            "text/plain": [
              "0"
            ]
          },
          "metadata": {},
          "execution_count": 9
        }
      ]
    },
    {
      "cell_type": "code",
      "source": [
        "X_train.max()"
      ],
      "metadata": {
        "colab": {
          "base_uri": "https://localhost:8080/"
        },
        "id": "CBeHEkMubRu1",
        "outputId": "3ae8a147-e785-4993-e6d6-0b3097476521"
      },
      "execution_count": 10,
      "outputs": [
        {
          "output_type": "execute_result",
          "data": {
            "text/plain": [
              "255"
            ]
          },
          "metadata": {},
          "execution_count": 10
        }
      ]
    },
    {
      "cell_type": "code",
      "source": [
        "X_train_scaled = X_train/255.0\n",
        "X_test_scaled = X_test/255.0"
      ],
      "metadata": {
        "id": "yMpTj2YDbZgt"
      },
      "execution_count": 11,
      "outputs": []
    },
    {
      "cell_type": "code",
      "source": [
        "X_train_scaled = X_train_scaled.reshape(-1,32,32,3)\n",
        "X_test_scaled = X_test_scaled.reshape(-1,32,32,3)"
      ],
      "metadata": {
        "id": "CzsplwL3pVfB"
      },
      "execution_count": 12,
      "outputs": []
    },
    {
      "cell_type": "code",
      "source": [
        "y_train_onehot = utils.to_categorical(y_train,10)\n",
        "y_test_onehot = utils.to_categorical(y_test,10)"
      ],
      "metadata": {
        "id": "Tdu4IsF2bc_u"
      },
      "execution_count": 13,
      "outputs": []
    },
    {
      "cell_type": "code",
      "source": [
        "y_train_onehot.shape"
      ],
      "metadata": {
        "colab": {
          "base_uri": "https://localhost:8080/"
        },
        "id": "TU0gT6_fbUgN",
        "outputId": "97d5a28b-0ba6-4e07-9b79-d66fbe3a42f3"
      },
      "execution_count": 14,
      "outputs": [
        {
          "output_type": "execute_result",
          "data": {
            "text/plain": [
              "(50000, 10)"
            ]
          },
          "metadata": {},
          "execution_count": 14
        }
      ]
    },
    {
      "cell_type": "code",
      "source": [
        "y_test_onehot = utils.to_categorical(y_test,10)"
      ],
      "metadata": {
        "id": "nxhdmz3Sck0W"
      },
      "execution_count": 15,
      "outputs": []
    },
    {
      "cell_type": "code",
      "source": [
        "single_image = X_train[1100]\n",
        "plt.imshow(single_image,cmap='gray')"
      ],
      "metadata": {
        "colab": {
          "base_uri": "https://localhost:8080/",
          "height": 283
        },
        "id": "zMcBz9QObnCV",
        "outputId": "525f4e83-35eb-408e-c2f6-11f7e2df2afa"
      },
      "execution_count": 16,
      "outputs": [
        {
          "output_type": "execute_result",
          "data": {
            "text/plain": [
              "<matplotlib.image.AxesImage at 0x7fb34543b2d0>"
            ]
          },
          "metadata": {},
          "execution_count": 16
        },
        {
          "output_type": "display_data",
          "data": {
            "text/plain": [
              "<Figure size 432x288 with 1 Axes>"
            ],
            "image/png": "[encoded data removed]"
          },
          "metadata": {
            "needs_background": "light"
          }
        }
      ]
    },
    {
      "cell_type": "code",
      "source": [
        "model = keras.Sequential()\n",
        "model.add(layers.Input(shape=(32,32,3)))\n",
        "model.add(layers.Conv2D(filters=32,kernel_size=(3,3),activation='relu', padding='same'))\n",
        "model.add(layers.MaxPool2D(pool_size=(2,2)))\n",
        "model.add(layers.Conv2D(filters=32,kernel_size=(3,3),activation='relu', padding='same'))\n",
        "model.add(layers.MaxPool2D(pool_size=(2,2)))\n",
        "model.add(layers.Flatten())\n",
        "model.add(layers.Dense(256,activation=\"relu\"))\n",
        "model.add(layers.Dense(10,activation=\"softmax\"))"
      ],
      "metadata": {
        "id": "CcWfqEsvc-Z6"
      },
      "execution_count": 17,
      "outputs": []
    },
    {
      "cell_type": "code",
      "source": [
        "model.summary()"
      ],
      "metadata": {
        "colab": {
          "base_uri": "https://localhost:8080/"
        },
        "id": "h7pAr0AEdhKu",
        "outputId": "b89590fe-2436-43b6-9277-12616e804423"
      },
      "execution_count": 18,
      "outputs": [
        {
          "output_type": "stream",
          "name": "stdout",
          "text": [
            "Model: \"sequential\"\n",
            "_________________________________________________________________\n",
            " Layer (type)                Output Shape              Param #   \n",
            "=================================================================\n",
            " conv2d (Conv2D)             (None, 32, 32, 32)        896       \n",
            "                                                                 \n",
            " max_pooling2d (MaxPooling2D  (None, 16, 16, 32)       0         \n",
            " )                                                               \n",
            "                                                                 \n",
            " conv2d_1 (Conv2D)           (None, 16, 16, 32)        9248      \n",
            "                                                                 \n",
            " max_pooling2d_1 (MaxPooling  (None, 8, 8, 32)         0         \n",
            " 2D)                                                             \n",
            "                                                                 \n",
            " flatten (Flatten)           (None, 2048)              0         \n",
            "                                                                 \n",
            " dense (Dense)               (None, 256)               524544    \n",
            "                                                                 \n",
            " dense_1 (Dense)             (None, 10)                2570      \n",
            "                                                                 \n",
            "=================================================================\n",
            "Total params: 537,258\n",
            "Trainable params: 537,258\n",
            "Non-trainable params: 0\n",
            "_________________________________________________________________\n"
          ]
        }
      ]
    },
    {
      "cell_type": "code",
      "source": [
        "model.compile(loss='categorical_crossentropy',\n",
        "              optimizer='adam',\n",
        "              metrics='accuracy')"
      ],
      "metadata": {
        "id": "IOgYFxzydiTP"
      },
      "execution_count": 19,
      "outputs": []
    },
    {
      "cell_type": "code",
      "source": [
        "model.fit(X_train_scaled ,y_train_onehot, epochs=50,\n",
        "          batch_size=100, \n",
        "          validation_data=(X_test_scaled,y_test_onehot))"
      ],
      "metadata": {
        "colab": {
          "base_uri": "https://localhost:8080/"
        },
        "id": "_I25GKKudkub",
        "outputId": "7326925f-bf1e-47d1-c3a1-ec500d534c34"
      },
      "execution_count": 20,
      "outputs": [
        {
          "output_type": "stream",
          "name": "stdout",
          "text": [
            "Epoch 1/50\n",
            "500/500 [==============================] - 76s 148ms/step - loss: 1.4802 - accuracy: 0.4707 - val_loss: 1.2376 - val_accuracy: 0.5601\n",
            "Epoch 2/50\n",
            "500/500 [==============================] - 70s 139ms/step - loss: 1.1455 - accuracy: 0.5969 - val_loss: 1.0390 - val_accuracy: 0.6338\n",
            "Epoch 3/50\n",
            "500/500 [==============================] - 68s 136ms/step - loss: 0.9943 - accuracy: 0.6485 - val_loss: 0.9942 - val_accuracy: 0.6488\n",
            "Epoch 4/50\n",
            "500/500 [==============================] - 68s 136ms/step - loss: 0.8923 - accuracy: 0.6882 - val_loss: 0.9210 - val_accuracy: 0.6842\n",
            "Epoch 5/50\n",
            "500/500 [==============================] - 68s 136ms/step - loss: 0.8113 - accuracy: 0.7162 - val_loss: 0.8718 - val_accuracy: 0.6997\n",
            "Epoch 6/50\n",
            "500/500 [==============================] - 68s 136ms/step - loss: 0.7357 - accuracy: 0.7437 - val_loss: 0.8703 - val_accuracy: 0.7018\n",
            "Epoch 7/50\n",
            "500/500 [==============================] - 68s 135ms/step - loss: 0.6742 - accuracy: 0.7652 - val_loss: 0.8591 - val_accuracy: 0.7034\n",
            "Epoch 8/50\n",
            "500/500 [==============================] - 68s 136ms/step - loss: 0.6062 - accuracy: 0.7891 - val_loss: 0.8842 - val_accuracy: 0.7002\n",
            "Epoch 9/50\n",
            "500/500 [==============================] - 68s 136ms/step - loss: 0.5520 - accuracy: 0.8073 - val_loss: 0.8691 - val_accuracy: 0.7082\n",
            "Epoch 10/50\n",
            "500/500 [==============================] - 68s 136ms/step - loss: 0.4862 - accuracy: 0.8312 - val_loss: 0.8927 - val_accuracy: 0.7091\n",
            "Epoch 11/50\n",
            "500/500 [==============================] - 68s 136ms/step - loss: 0.4266 - accuracy: 0.8522 - val_loss: 0.9354 - val_accuracy: 0.7103\n",
            "Epoch 12/50\n",
            "500/500 [==============================] - 68s 135ms/step - loss: 0.3732 - accuracy: 0.8712 - val_loss: 0.9387 - val_accuracy: 0.7148\n",
            "Epoch 13/50\n",
            "500/500 [==============================] - 68s 136ms/step - loss: 0.3130 - accuracy: 0.8919 - val_loss: 1.0045 - val_accuracy: 0.7089\n",
            "Epoch 14/50\n",
            "500/500 [==============================] - 68s 137ms/step - loss: 0.2669 - accuracy: 0.9096 - val_loss: 1.0806 - val_accuracy: 0.7024\n",
            "Epoch 15/50\n",
            "500/500 [==============================] - 68s 136ms/step - loss: 0.2218 - accuracy: 0.9256 - val_loss: 1.1666 - val_accuracy: 0.7052\n",
            "Epoch 16/50\n",
            "500/500 [==============================] - 68s 136ms/step - loss: 0.1835 - accuracy: 0.9394 - val_loss: 1.2067 - val_accuracy: 0.7121\n",
            "Epoch 17/50\n",
            "500/500 [==============================] - 68s 136ms/step - loss: 0.1437 - accuracy: 0.9535 - val_loss: 1.3223 - val_accuracy: 0.7042\n",
            "Epoch 18/50\n",
            "500/500 [==============================] - 68s 136ms/step - loss: 0.1261 - accuracy: 0.9598 - val_loss: 1.3629 - val_accuracy: 0.7022\n",
            "Epoch 19/50\n",
            "500/500 [==============================] - 68s 136ms/step - loss: 0.1035 - accuracy: 0.9663 - val_loss: 1.5061 - val_accuracy: 0.6976\n",
            "Epoch 20/50\n",
            "500/500 [==============================] - 68s 136ms/step - loss: 0.0910 - accuracy: 0.9706 - val_loss: 1.6054 - val_accuracy: 0.6958\n",
            "Epoch 21/50\n",
            "500/500 [==============================] - 68s 136ms/step - loss: 0.0801 - accuracy: 0.9736 - val_loss: 1.6158 - val_accuracy: 0.7026\n",
            "Epoch 22/50\n",
            "500/500 [==============================] - 68s 136ms/step - loss: 0.0678 - accuracy: 0.9788 - val_loss: 1.7504 - val_accuracy: 0.7045\n",
            "Epoch 23/50\n",
            "500/500 [==============================] - 68s 136ms/step - loss: 0.0698 - accuracy: 0.9775 - val_loss: 1.7994 - val_accuracy: 0.6979\n",
            "Epoch 24/50\n",
            "500/500 [==============================] - 68s 136ms/step - loss: 0.0588 - accuracy: 0.9809 - val_loss: 1.8414 - val_accuracy: 0.6968\n",
            "Epoch 25/50\n",
            "500/500 [==============================] - 68s 136ms/step - loss: 0.0618 - accuracy: 0.9795 - val_loss: 1.9249 - val_accuracy: 0.6989\n",
            "Epoch 26/50\n",
            "500/500 [==============================] - 68s 136ms/step - loss: 0.0494 - accuracy: 0.9841 - val_loss: 2.0324 - val_accuracy: 0.6953\n",
            "Epoch 27/50\n",
            "500/500 [==============================] - 68s 136ms/step - loss: 0.0625 - accuracy: 0.9785 - val_loss: 2.0267 - val_accuracy: 0.6933\n",
            "Epoch 28/50\n",
            "500/500 [==============================] - 68s 136ms/step - loss: 0.0369 - accuracy: 0.9880 - val_loss: 2.2668 - val_accuracy: 0.6930\n",
            "Epoch 29/50\n",
            "500/500 [==============================] - 68s 136ms/step - loss: 0.0453 - accuracy: 0.9852 - val_loss: 2.1888 - val_accuracy: 0.6909\n",
            "Epoch 30/50\n",
            "500/500 [==============================] - 68s 136ms/step - loss: 0.0525 - accuracy: 0.9816 - val_loss: 2.2469 - val_accuracy: 0.6951\n",
            "Epoch 31/50\n",
            "500/500 [==============================] - 68s 136ms/step - loss: 0.0448 - accuracy: 0.9850 - val_loss: 2.3636 - val_accuracy: 0.6894\n",
            "Epoch 32/50\n",
            "500/500 [==============================] - 68s 136ms/step - loss: 0.0353 - accuracy: 0.9882 - val_loss: 2.2991 - val_accuracy: 0.7034\n",
            "Epoch 33/50\n",
            "500/500 [==============================] - 68s 135ms/step - loss: 0.0429 - accuracy: 0.9855 - val_loss: 2.4278 - val_accuracy: 0.6880\n",
            "Epoch 34/50\n",
            "500/500 [==============================] - 68s 135ms/step - loss: 0.0476 - accuracy: 0.9831 - val_loss: 2.3847 - val_accuracy: 0.6961\n",
            "Epoch 35/50\n",
            "500/500 [==============================] - 68s 136ms/step - loss: 0.0353 - accuracy: 0.9881 - val_loss: 2.4974 - val_accuracy: 0.6927\n",
            "Epoch 36/50\n",
            "500/500 [==============================] - 68s 136ms/step - loss: 0.0458 - accuracy: 0.9842 - val_loss: 2.5738 - val_accuracy: 0.6863\n",
            "Epoch 37/50\n",
            "500/500 [==============================] - 68s 137ms/step - loss: 0.0342 - accuracy: 0.9881 - val_loss: 2.6184 - val_accuracy: 0.6906\n",
            "Epoch 38/50\n",
            "500/500 [==============================] - 68s 135ms/step - loss: 0.0388 - accuracy: 0.9860 - val_loss: 2.5512 - val_accuracy: 0.6984\n",
            "Epoch 39/50\n",
            "500/500 [==============================] - 68s 136ms/step - loss: 0.0387 - accuracy: 0.9865 - val_loss: 2.5443 - val_accuracy: 0.7014\n",
            "Epoch 40/50\n",
            "500/500 [==============================] - 68s 136ms/step - loss: 0.0375 - accuracy: 0.9876 - val_loss: 2.6120 - val_accuracy: 0.7001\n",
            "Epoch 41/50\n",
            "500/500 [==============================] - 68s 136ms/step - loss: 0.0332 - accuracy: 0.9890 - val_loss: 2.7033 - val_accuracy: 0.6939\n",
            "Epoch 42/50\n",
            "500/500 [==============================] - 68s 136ms/step - loss: 0.0391 - accuracy: 0.9862 - val_loss: 2.6624 - val_accuracy: 0.6918\n",
            "Epoch 43/50\n",
            "500/500 [==============================] - 68s 135ms/step - loss: 0.0331 - accuracy: 0.9887 - val_loss: 2.8155 - val_accuracy: 0.6934\n",
            "Epoch 44/50\n",
            "500/500 [==============================] - 68s 136ms/step - loss: 0.0367 - accuracy: 0.9877 - val_loss: 2.8032 - val_accuracy: 0.6874\n",
            "Epoch 45/50\n",
            "500/500 [==============================] - 68s 135ms/step - loss: 0.0376 - accuracy: 0.9871 - val_loss: 2.8766 - val_accuracy: 0.6950\n",
            "Epoch 46/50\n",
            "500/500 [==============================] - 68s 136ms/step - loss: 0.0268 - accuracy: 0.9907 - val_loss: 2.8651 - val_accuracy: 0.6881\n",
            "Epoch 47/50\n",
            "500/500 [==============================] - 68s 136ms/step - loss: 0.0296 - accuracy: 0.9896 - val_loss: 2.8775 - val_accuracy: 0.6932\n",
            "Epoch 48/50\n",
            "500/500 [==============================] - 68s 136ms/step - loss: 0.0333 - accuracy: 0.9890 - val_loss: 2.9689 - val_accuracy: 0.6920\n",
            "Epoch 49/50\n",
            "500/500 [==============================] - 68s 136ms/step - loss: 0.0299 - accuracy: 0.9903 - val_loss: 3.0718 - val_accuracy: 0.6923\n",
            "Epoch 50/50\n",
            "500/500 [==============================] - 68s 136ms/step - loss: 0.0428 - accuracy: 0.9858 - val_loss: 2.9518 - val_accuracy: 0.6873\n"
          ]
        },
        {
          "output_type": "execute_result",
          "data": {
            "text/plain": [
              "<keras.callbacks.History at 0x7fb3415f1dd0>"
            ]
          },
          "metadata": {},
          "execution_count": 20
        }
      ]
    },
    {
      "cell_type": "code",
      "source": [
        "metrics = pd.DataFrame(model.history.history)\n",
        "metrics[['accuracy','val_accuracy']].plot()\n",
        "metrics[['loss','val_loss']].plot()"
      ],
      "metadata": {
        "colab": {
          "base_uri": "https://localhost:8080/",
          "height": 530
        },
        "id": "9eMFdsvOkFx2",
        "outputId": "6d5c5139-bca9-47a1-f1f5-1b0694ffd9d7"
      },
      "execution_count": 21,
      "outputs": [
        {
          "output_type": "execute_result",
          "data": {
            "text/plain": [
              "<matplotlib.axes._subplots.AxesSubplot at 0x7fb3414963d0>"
            ]
          },
          "metadata": {},
          "execution_count": 21
        },
        {
          "output_type": "display_data",
          "data": {
            "text/plain": [
              "<Figure size 432x288 with 1 Axes>"
            ],
            "image/png": "[encoded data removed]"
          },
          "metadata": {
            "needs_background": "light"
          }
        },
        {
          "output_type": "display_data",
          "data": {
            "text/plain": [
              "<Figure size 432x288 with 1 Axes>"
            ],
            "image/png": "[encoded data removed]"
          },
          "metadata": {
            "needs_background": "light"
          }
        }
      ]
    },
    {
      "cell_type": "code",
      "source": [
        "x_test_predictions = np.argmax(model.predict(X_test_scaled), axis=1)"
      ],
      "metadata": {
        "id": "32Zdivz9kJlk"
      },
      "execution_count": 37,
      "outputs": []
    },
    {
      "cell_type": "code",
      "source": [
        "img = image.load_img('img3.jpg')"
      ],
      "metadata": {
        "id": "RgzxAR3ekGlu"
      },
      "execution_count": 65,
      "outputs": []
    },
    {
      "cell_type": "code",
      "source": [
        "img = image.load_img('img3.jpg')\n",
        "img_tensor = tf.convert_to_tensor(np.asarray(img))\n",
        "img_32 = tf.image.resize(img_tensor,(32,32))\n",
        "img_32_scaled = img_32.numpy()/255.0"
      ],
      "metadata": {
        "id": "xZLbH2GMlFym"
      },
      "execution_count": 66,
      "outputs": []
    },
    {
      "cell_type": "code",
      "source": [
        "x_single_prediction = np.argmax(\n",
        "    model.predict(img_32_scaled.reshape(1,32,32,3)),\n",
        "     axis=1)"
      ],
      "metadata": {
        "id": "uIhJsyH9TO1v"
      },
      "execution_count": 67,
      "outputs": []
    },
    {
      "cell_type": "code",
      "source": [
        "img_32_scaled.shape"
      ],
      "metadata": {
        "id": "iCT9qXk2o4NM",
        "colab": {
          "base_uri": "https://localhost:8080/"
        },
        "outputId": "5acd984f-a290-4338-8688-25b5e12d639b"
      },
      "execution_count": 68,
      "outputs": [
        {
          "output_type": "execute_result",
          "data": {
            "text/plain": [
              "(32, 32, 3)"
            ]
          },
          "metadata": {},
          "execution_count": 68
        }
      ]
    },
    {
      "cell_type": "code",
      "source": [
        "print(x_single_prediction)"
      ],
      "metadata": {
        "colab": {
          "base_uri": "https://localhost:8080/"
        },
        "id": "Bvcp90rQSF9u",
        "outputId": "59b2a964-0f27-4e64-e022-1ae11984e9bf"
      },
      "execution_count": 69,
      "outputs": [
        {
          "output_type": "stream",
          "name": "stdout",
          "text": [
            "[0]\n"
          ]
        }
      ]
    }
  ]
}