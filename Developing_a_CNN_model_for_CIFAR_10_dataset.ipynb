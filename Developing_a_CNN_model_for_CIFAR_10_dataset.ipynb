{
  "nbformat": 4,
  "nbformat_minor": 0,
  "metadata": {
    "colab": {
      "provenance": [],
      "collapsed_sections": [],
      "authorship_tag": "ABX9TyMlSt1y+UHxXER0BoSS2/cX",
      "include_colab_link": true
    },
    "kernelspec": {
      "name": "python3",
      "display_name": "Python 3"
    },
    "language_info": {
      "name": "python"
    }
  },
  "cells": [
    {
      "cell_type": "markdown",
      "metadata": {
        "id": "view-in-github",
        "colab_type": "text"
      },
      "source": [
        "<a href=\"https://colab.research.google.com/github/aakaashvp/W21-Developing-CNN-Model-for-CIFAR-10-Dataset-4EV2-1/blob/main/Developing_a_CNN_model_for_CIFAR_10_dataset.ipynb\" target=\"_parent\"><img src=\"https://colab.research.google.com/assets/colab-badge.svg\" alt=\"Open In Colab\"/></a>"
      ]
    },
    {
      "cell_type": "code",
      "execution_count": 1,
      "metadata": {
        "id": "uUqdU1TEaFPB"
      },
      "outputs": [],
      "source": [
        "import numpy as np\n",
        "from tensorflow import keras\n",
        "from tensorflow.keras import layers\n",
        "from tensorflow.keras.datasets import cifar10\n",
        "import tensorflow as tf\n",
        "import matplotlib.pyplot as plt\n",
        "from tensorflow.keras import utils\n",
        "import pandas as pd\n",
        "from sklearn.metrics import classification_report,confusion_matrix\n",
        "from tensorflow.keras.preprocessing import image"
      ]
    },
    {
      "cell_type": "code",
      "source": [
        "(X_train, y_train), (X_test, y_test) = cifar10.load_data()"
      ],
      "metadata": {
        "id": "V4oiSRS8aKL2"
      },
      "execution_count": 2,
      "outputs": []
    },
    {
      "cell_type": "code",
      "source": [
        "X_train.shape"
      ],
      "metadata": {
        "colab": {
          "base_uri": "https://localhost:8080/"
        },
        "id": "RLPk3277aYaY",
        "outputId": "ce80472d-0da0-4970-de45-93af5cdb2235"
      },
      "execution_count": 3,
      "outputs": [
        {
          "output_type": "execute_result",
          "data": {
            "text/plain": [
              "(50000, 32, 32, 3)"
            ]
          },
          "metadata": {},
          "execution_count": 3
        }
      ]
    },
    {
      "cell_type": "code",
      "source": [
        "X_test.shape"
      ],
      "metadata": {
        "colab": {
          "base_uri": "https://localhost:8080/"
        },
        "id": "bSqGE9Ozaj--",
        "outputId": "8fce2f65-2be5-4a12-f11a-718150dfd67f"
      },
      "execution_count": 4,
      "outputs": [
        {
          "output_type": "execute_result",
          "data": {
            "text/plain": [
              "(10000, 32, 32, 3)"
            ]
          },
          "metadata": {},
          "execution_count": 4
        }
      ]
    },
    {
      "cell_type": "code",
      "source": [
        "single_image= X_train[1100]"
      ],
      "metadata": {
        "id": "29Z1YuGjaoEv"
      },
      "execution_count": 5,
      "outputs": []
    },
    {
      "cell_type": "code",
      "source": [
        "single_image.shape"
      ],
      "metadata": {
        "colab": {
          "base_uri": "https://localhost:8080/"
        },
        "id": "NrQNNjJSbDnd",
        "outputId": "6e4d49b5-ac49-402d-e9a1-68413ad7d0c7"
      },
      "execution_count": 6,
      "outputs": [
        {
          "output_type": "execute_result",
          "data": {
            "text/plain": [
              "(32, 32, 3)"
            ]
          },
          "metadata": {},
          "execution_count": 6
        }
      ]
    },
    {
      "cell_type": "code",
      "source": [
        "plt.imshow(single_image)"
      ],
      "metadata": {
        "colab": {
          "base_uri": "https://localhost:8080/",
          "height": 283
        },
        "id": "njeLAYjvbG7e",
        "outputId": "ecd26065-5482-4d48-fa76-816844436e52"
      },
      "execution_count": 7,
      "outputs": [
        {
          "output_type": "execute_result",
          "data": {
            "text/plain": [
              "<matplotlib.image.AxesImage at 0x7f523de85210>"
            ]
          },
          "metadata": {},
          "execution_count": 7
        },
        {
          "output_type": "display_data",
          "data": {
            "text/plain": [
              "<Figure size 432x288 with 1 Axes>"
            ],
            "image/png": "[encoded data removed]"
          },
          "metadata": {
            "needs_background": "light"
          }
        }
      ]
    },
    {
      "cell_type": "code",
      "source": [
        "y_train[3]"
      ],
      "metadata": {
        "colab": {
          "base_uri": "https://localhost:8080/"
        },
        "id": "pp2cJTIDcMx3",
        "outputId": "1ecb0249-b143-439e-a752-fd835dcfbe2a"
      },
      "execution_count": 8,
      "outputs": [
        {
          "output_type": "execute_result",
          "data": {
            "text/plain": [
              "array([4], dtype=uint8)"
            ]
          },
          "metadata": {},
          "execution_count": 8
        }
      ]
    },
    {
      "cell_type": "code",
      "source": [
        "X_train.min()"
      ],
      "metadata": {
        "colab": {
          "base_uri": "https://localhost:8080/"
        },
        "id": "s3avUYBLbJhe",
        "outputId": "7a37a555-8a53-429e-b774-d9ae620f4ccc"
      },
      "execution_count": 9,
      "outputs": [
        {
          "output_type": "execute_result",
          "data": {
            "text/plain": [
              "0"
            ]
          },
          "metadata": {},
          "execution_count": 9
        }
      ]
    },
    {
      "cell_type": "code",
      "source": [
        "X_train.max()"
      ],
      "metadata": {
        "colab": {
          "base_uri": "https://localhost:8080/"
        },
        "id": "CBeHEkMubRu1",
        "outputId": "59e2b87b-2e27-414b-cb79-146023bb4c03"
      },
      "execution_count": 10,
      "outputs": [
        {
          "output_type": "execute_result",
          "data": {
            "text/plain": [
              "255"
            ]
          },
          "metadata": {},
          "execution_count": 10
        }
      ]
    },
    {
      "cell_type": "code",
      "source": [
        "X_train_scaled = X_train/255.0\n",
        "X_test_scaled = X_test/255.0"
      ],
      "metadata": {
        "id": "yMpTj2YDbZgt"
      },
      "execution_count": 11,
      "outputs": []
    },
    {
      "cell_type": "code",
      "source": [
        "y_train_onehot = utils.to_categorical(y_train,10)\n",
        "y_test_onehot = utils.to_categorical(y_test,10)"
      ],
      "metadata": {
        "id": "Tdu4IsF2bc_u"
      },
      "execution_count": 12,
      "outputs": []
    },
    {
      "cell_type": "code",
      "source": [
        "y_train_onehot.shape"
      ],
      "metadata": {
        "colab": {
          "base_uri": "https://localhost:8080/"
        },
        "id": "TU0gT6_fbUgN",
        "outputId": "e949ec28-693a-4bc8-b40c-d0ff49583151"
      },
      "execution_count": 13,
      "outputs": [
        {
          "output_type": "execute_result",
          "data": {
            "text/plain": [
              "(50000, 10)"
            ]
          },
          "metadata": {},
          "execution_count": 13
        }
      ]
    },
    {
      "cell_type": "code",
      "source": [
        "y_test_onehot = utils.to_categorical(y_test,10)"
      ],
      "metadata": {
        "id": "nxhdmz3Sck0W"
      },
      "execution_count": 14,
      "outputs": []
    },
    {
      "cell_type": "code",
      "source": [
        "single_image = X_train[1100]\n",
        "plt.imshow(single_image,cmap='gray')"
      ],
      "metadata": {
        "colab": {
          "base_uri": "https://localhost:8080/",
          "height": 283
        },
        "id": "zMcBz9QObnCV",
        "outputId": "703b5da2-2195-4ba4-f898-a5ca4431fdb2"
      },
      "execution_count": 15,
      "outputs": [
        {
          "output_type": "execute_result",
          "data": {
            "text/plain": [
              "<matplotlib.image.AxesImage at 0x7f523d97c5d0>"
            ]
          },
          "metadata": {},
          "execution_count": 15
        },
        {
          "output_type": "display_data",
          "data": {
            "text/plain": [
              "<Figure size 432x288 with 1 Axes>"
            ],
            "image/png": "[encoded data removed]"
          },
          "metadata": {
            "needs_background": "light"
          }
        }
      ]
    },
    {
      "cell_type": "code",
      "source": [
        "model = keras.Sequential()\n",
        "model.add(layers.Input(shape=(32,32,3)))\n",
        "model.add(layers.Conv2D(filters=32,kernel_size=(3,3),activation='relu', padding='same'))\n",
        "model.add(layers.MaxPool2D(pool_size=(2,2)))\n",
        "model.add(layers.Conv2D(filters=32,kernel_size=(3,3),activation='relu', padding='same'))\n",
        "model.add(layers.MaxPool2D(pool_size=(2,2)))\n",
        "model.add(layers.Flatten())\n",
        "model.add(layers.Dense(256,activation=\"relu\"))\n",
        "model.add(layers.Dense(10,activation=\"softmax\"))"
      ],
      "metadata": {
        "id": "CcWfqEsvc-Z6"
      },
      "execution_count": 16,
      "outputs": []
    },
    {
      "cell_type": "code",
      "source": [
        "model.summary()"
      ],
      "metadata": {
        "colab": {
          "base_uri": "https://localhost:8080/"
        },
        "id": "h7pAr0AEdhKu",
        "outputId": "98dca80a-7a86-4058-b2d4-c5942879062a"
      },
      "execution_count": 17,
      "outputs": [
        {
          "output_type": "stream",
          "name": "stdout",
          "text": [
            "Model: \"sequential\"\n",
            "_________________________________________________________________\n",
            " Layer (type)                Output Shape              Param #   \n",
            "=================================================================\n",
            " conv2d (Conv2D)             (None, 32, 32, 32)        896       \n",
            "                                                                 \n",
            " max_pooling2d (MaxPooling2D  (None, 16, 16, 32)       0         \n",
            " )                                                               \n",
            "                                                                 \n",
            " conv2d_1 (Conv2D)           (None, 16, 16, 32)        9248      \n",
            "                                                                 \n",
            " max_pooling2d_1 (MaxPooling  (None, 8, 8, 32)         0         \n",
            " 2D)                                                             \n",
            "                                                                 \n",
            " flatten (Flatten)           (None, 2048)              0         \n",
            "                                                                 \n",
            " dense (Dense)               (None, 256)               524544    \n",
            "                                                                 \n",
            " dense_1 (Dense)             (None, 10)                2570      \n",
            "                                                                 \n",
            "=================================================================\n",
            "Total params: 537,258\n",
            "Trainable params: 537,258\n",
            "Non-trainable params: 0\n",
            "_________________________________________________________________\n"
          ]
        }
      ]
    },
    {
      "cell_type": "code",
      "source": [
        "model.compile(loss='categorical_crossentropy',\n",
        "              optimizer='adam',\n",
        "              metrics='accuracy')"
      ],
      "metadata": {
        "id": "IOgYFxzydiTP"
      },
      "execution_count": 18,
      "outputs": []
    },
    {
      "cell_type": "code",
      "source": [
        "model.fit(X_train_scaled ,y_train_onehot, epochs=15,\n",
        "          batch_size=100, \n",
        "          validation_data=(X_test_scaled,y_test_onehot))"
      ],
      "metadata": {
        "colab": {
          "base_uri": "https://localhost:8080/"
        },
        "id": "_I25GKKudkub",
        "outputId": "b229a476-397a-4926-c631-383700511a3e"
      },
      "execution_count": 19,
      "outputs": [
        {
          "output_type": "stream",
          "name": "stdout",
          "text": [
            "Epoch 1/15\n",
            "500/500 [==============================] - 82s 161ms/step - loss: 1.4648 - accuracy: 0.4756 - val_loss: 1.2170 - val_accuracy: 0.5617\n",
            "Epoch 2/15\n",
            "500/500 [==============================] - 75s 151ms/step - loss: 1.1208 - accuracy: 0.6048 - val_loss: 1.0823 - val_accuracy: 0.6219\n",
            "Epoch 3/15\n",
            "500/500 [==============================] - 81s 162ms/step - loss: 0.9792 - accuracy: 0.6572 - val_loss: 0.9804 - val_accuracy: 0.6600\n",
            "Epoch 4/15\n",
            "500/500 [==============================] - 72s 145ms/step - loss: 0.8767 - accuracy: 0.6942 - val_loss: 0.9363 - val_accuracy: 0.6747\n",
            "Epoch 5/15\n",
            "500/500 [==============================] - 77s 154ms/step - loss: 0.7958 - accuracy: 0.7225 - val_loss: 0.8971 - val_accuracy: 0.6925\n",
            "Epoch 6/15\n",
            "500/500 [==============================] - 75s 150ms/step - loss: 0.7159 - accuracy: 0.7500 - val_loss: 0.8567 - val_accuracy: 0.7052\n",
            "Epoch 7/15\n",
            "500/500 [==============================] - 76s 153ms/step - loss: 0.6490 - accuracy: 0.7763 - val_loss: 0.8461 - val_accuracy: 0.7088\n",
            "Epoch 8/15\n",
            "500/500 [==============================] - 77s 155ms/step - loss: 0.5745 - accuracy: 0.8015 - val_loss: 0.8761 - val_accuracy: 0.7097\n",
            "Epoch 9/15\n",
            "500/500 [==============================] - 75s 150ms/step - loss: 0.5077 - accuracy: 0.8258 - val_loss: 0.8923 - val_accuracy: 0.7105\n",
            "Epoch 10/15\n",
            "500/500 [==============================] - 75s 150ms/step - loss: 0.4503 - accuracy: 0.8440 - val_loss: 0.8712 - val_accuracy: 0.7193\n",
            "Epoch 11/15\n",
            "500/500 [==============================] - 75s 149ms/step - loss: 0.3837 - accuracy: 0.8683 - val_loss: 0.9322 - val_accuracy: 0.7134\n",
            "Epoch 12/15\n",
            "500/500 [==============================] - 75s 150ms/step - loss: 0.3323 - accuracy: 0.8875 - val_loss: 0.9308 - val_accuracy: 0.7194\n",
            "Epoch 13/15\n",
            "500/500 [==============================] - 76s 152ms/step - loss: 0.2702 - accuracy: 0.9095 - val_loss: 0.9992 - val_accuracy: 0.7163\n",
            "Epoch 14/15\n",
            "500/500 [==============================] - 77s 154ms/step - loss: 0.2263 - accuracy: 0.9259 - val_loss: 1.1141 - val_accuracy: 0.7059\n",
            "Epoch 15/15\n",
            "500/500 [==============================] - 77s 153ms/step - loss: 0.1856 - accuracy: 0.9387 - val_loss: 1.2013 - val_accuracy: 0.7114\n"
          ]
        },
        {
          "output_type": "execute_result",
          "data": {
            "text/plain": [
              "<keras.callbacks.History at 0x7f523d943ad0>"
            ]
          },
          "metadata": {},
          "execution_count": 19
        }
      ]
    },
    {
      "cell_type": "code",
      "source": [
        "metrics = pd.DataFrame(model.history.history)\n",
        "metrics[['accuracy','val_accuracy']].plot()\n",
        "metrics[['loss','val_loss']].plot()"
      ],
      "metadata": {
        "colab": {
          "base_uri": "https://localhost:8080/",
          "height": 530
        },
        "id": "9eMFdsvOkFx2",
        "outputId": "55685e45-d6ff-4d09-f30c-7cb1fb214752"
      },
      "execution_count": 24,
      "outputs": [
        {
          "output_type": "execute_result",
          "data": {
            "text/plain": [
              "<matplotlib.axes._subplots.AxesSubplot at 0x7f52398d20d0>"
            ]
          },
          "metadata": {},
          "execution_count": 24
        },
        {
          "output_type": "display_data",
          "data": {
            "text/plain": [
              "<Figure size 432x288 with 1 Axes>"
            ],
            "image/png": "[encoded data removed]"
          },
          "metadata": {
            "needs_background": "light"
          }
        },
        {
          "output_type": "display_data",
          "data": {
            "text/plain": [
              "<Figure size 432x288 with 1 Axes>"
            ],
            "image/png": "[encoded data removed]"
          },
          "metadata": {
            "needs_background": "light"
          }
        }
      ]
    },
    {
      "cell_type": "code",
      "source": [
        "x_test_predictions = np.argmax(model.predict(X_test_scaled), axis=1)"
      ],
      "metadata": {
        "id": "32Zdivz9kJlk"
      },
      "execution_count": 25,
      "outputs": []
    },
    {
      "cell_type": "code",
      "source": [
        "img = image.load_img('img.jpg')"
      ],
      "metadata": {
        "id": "RgzxAR3ekGlu"
      },
      "execution_count": 26,
      "outputs": []
    },
    {
      "cell_type": "code",
      "source": [
        "img = image.load_img('img.jpg')\n",
        "img_tensor = tf.convert_to_tensor(np.asarray(img))\n",
        "img_32 = tf.image.resize(img_tensor,(32,32))\n",
        "img_32_gray = tf.image.rgb_to_grayscale(img_32)\n",
        "img_32_gray_scaled = img_32_gray.numpy()/255.0"
      ],
      "metadata": {
        "id": "xZLbH2GMlFym"
      },
      "execution_count": 32,
      "outputs": []
    }
  ]
}